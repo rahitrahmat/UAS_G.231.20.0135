{
 "cells": [
  {
   "cell_type": "code",
   "execution_count": 2,
   "metadata": {},
   "outputs": [],
   "source": [
    "import os\n",
    "from PIL import Image, ImageDraw\n",
    "\n",
    "# Specify the folder path containing the images\n",
    "folder_path = \"images/images\"\n",
    "\n",
    "# Get the file names of all images in the folder\n",
    "image_files = [f for f in os.listdir(folder_path) if f.endswith((\".jpg\", \".jpeg\", \".png\"))]\n",
    "\n",
    "# Load YOLOv5 model\n",
    "model = torch.hub.load('ultralytics/yolov5', 'yolov5s', pretrained=True)\n",
    "device = torch.device('cuda' if torch.cuda.is_available() else 'cpu')\n",
    "model = model.to(device)\n",
    "\n",
    "# Iterate over the images\n",
    "for image_file in image_files:\n",
    "    image_path = os.path.join(folder_path, image_file)\n",
    "\n",
    "    # Load and preprocess the image\n",
    "    image = Image.open(image_path)\n",
    "    image = image.convert(\"RGB\")\n",
    "\n",
    "    # Perform inference\n",
    "    results = model(image)\n",
    "\n",
    "    # Get bounding box coordinates and labels for faces\n",
    "    boxes = results.xyxy[0]\n",
    "    faces = []\n",
    "    for box in boxes:\n",
    "        label = int(box[-1])\n",
    "        if label == 0:  # Class ID 0 corresponds to face\n",
    "            x1, y1, x2, y2 = box[:4].tolist()\n",
    "            faces.append((x1, y1, x2, y2))\n",
    "\n",
    "    # Draw bounding boxes on the image\n",
    "    draw = ImageDraw.Draw(image)\n",
    "    for face in faces:\n",
    "        x1, y1, x2, y2 = face\n",
    "        draw.rectangle([(x1, y1), (x2, y2)], outline=\"red\")\n",
    "\n",
    "    # Save the image with bounding boxes\n",
    "    output_path = \"images/results\"\n",
    "    output_path = os.path.join(output_path, f\"output_{image_file}\")\n",
    "    image.save(output_path)"
   ]
  },
  {
   "cell_type": "code",
   "execution_count": null,
   "metadata": {},
   "outputs": [],
   "source": []
  }
 ],
 "metadata": {
  "kernelspec": {
   "display_name": "Python 3 (ipykernel)",
   "language": "python",
   "name": "python3"
  },
  "language_info": {
   "codemirror_mode": {
    "name": "ipython",
    "version": 3
   },
   "file_extension": ".py",
   "mimetype": "text/x-python",
   "name": "python",
   "nbconvert_exporter": "python",
   "pygments_lexer": "ipython3",
   "version": "3.9.13"
  }
 },
 "nbformat": 4,
 "nbformat_minor": 2
}
