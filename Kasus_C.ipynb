{
 "cells": [
  {
   "cell_type": "code",
   "execution_count": 5,
   "metadata": {},
   "outputs": [
    {
     "name": "stderr",
     "output_type": "stream",
     "text": [
      "WARNING: Ignoring invalid distribution -rotobuf (c:\\users\\hiday\\anaconda3\\lib\\site-packages)\n",
      "WARNING: Ignoring invalid distribution -rotobuf (c:\\users\\hiday\\anaconda3\\lib\\site-packages)\n"
     ]
    },
    {
     "name": "stdout",
     "output_type": "stream",
     "text": [
      "Requirement already satisfied: ultralytics in c:\\users\\hiday\\anaconda3\\lib\\site-packages (8.0.125)\n",
      "Requirement already satisfied: matplotlib>=3.2.2 in c:\\users\\hiday\\anaconda3\\lib\\site-packages (from ultralytics) (3.7.1)\n",
      "Requirement already satisfied: opencv-python>=4.6.0 in c:\\users\\hiday\\anaconda3\\lib\\site-packages (from ultralytics) (4.8.0.74)\n",
      "Requirement already satisfied: Pillow>=7.1.2 in c:\\users\\hiday\\anaconda3\\lib\\site-packages (from ultralytics) (9.4.0)\n",
      "Requirement already satisfied: PyYAML>=5.3.1 in c:\\users\\hiday\\anaconda3\\lib\\site-packages (from ultralytics) (6.0)\n",
      "Requirement already satisfied: requests>=2.23.0 in c:\\users\\hiday\\anaconda3\\lib\\site-packages (from ultralytics) (2.29.0)\n",
      "Requirement already satisfied: scipy>=1.4.1 in c:\\users\\hiday\\anaconda3\\lib\\site-packages (from ultralytics) (1.10.1)\n",
      "Requirement already satisfied: torch>=1.7.0 in c:\\users\\hiday\\anaconda3\\lib\\site-packages (from ultralytics) (2.0.1)\n",
      "Requirement already satisfied: torchvision>=0.8.1 in c:\\users\\hiday\\anaconda3\\lib\\site-packages (from ultralytics) (0.15.2)\n",
      "Requirement already satisfied: tqdm>=4.64.0 in c:\\users\\hiday\\anaconda3\\lib\\site-packages (from ultralytics) (4.65.0)\n",
      "Requirement already satisfied: pandas>=1.1.4 in c:\\users\\hiday\\anaconda3\\lib\\site-packages (from ultralytics) (1.4.4)\n",
      "Requirement already satisfied: seaborn>=0.11.0 in c:\\users\\hiday\\anaconda3\\lib\\site-packages (from ultralytics) (0.12.2)\n",
      "Requirement already satisfied: psutil in c:\\users\\hiday\\anaconda3\\lib\\site-packages (from ultralytics) (5.9.0)\n",
      "Requirement already satisfied: contourpy>=1.0.1 in c:\\users\\hiday\\anaconda3\\lib\\site-packages (from matplotlib>=3.2.2->ultralytics) (1.0.5)\n",
      "Requirement already satisfied: cycler>=0.10 in c:\\users\\hiday\\anaconda3\\lib\\site-packages (from matplotlib>=3.2.2->ultralytics) (0.11.0)\n",
      "Requirement already satisfied: fonttools>=4.22.0 in c:\\users\\hiday\\anaconda3\\lib\\site-packages (from matplotlib>=3.2.2->ultralytics) (4.25.0)\n",
      "Requirement already satisfied: kiwisolver>=1.0.1 in c:\\users\\hiday\\anaconda3\\lib\\site-packages (from matplotlib>=3.2.2->ultralytics) (1.4.4)\n",
      "Requirement already satisfied: numpy>=1.20 in c:\\users\\hiday\\appdata\\roaming\\python\\python39\\site-packages (from matplotlib>=3.2.2->ultralytics) (1.23.5)\n",
      "Requirement already satisfied: packaging>=20.0 in c:\\users\\hiday\\anaconda3\\lib\\site-packages (from matplotlib>=3.2.2->ultralytics) (23.0)\n",
      "Requirement already satisfied: pyparsing>=2.3.1 in c:\\users\\hiday\\anaconda3\\lib\\site-packages (from matplotlib>=3.2.2->ultralytics) (3.0.9)\n",
      "Requirement already satisfied: python-dateutil>=2.7 in c:\\users\\hiday\\anaconda3\\lib\\site-packages (from matplotlib>=3.2.2->ultralytics) (2.8.2)\n",
      "Requirement already satisfied: importlib-resources>=3.2.0 in c:\\users\\hiday\\anaconda3\\lib\\site-packages (from matplotlib>=3.2.2->ultralytics) (5.2.0)\n",
      "Requirement already satisfied: pytz>=2020.1 in c:\\users\\hiday\\anaconda3\\lib\\site-packages (from pandas>=1.1.4->ultralytics) (2022.7)\n",
      "Requirement already satisfied: charset-normalizer<4,>=2 in c:\\users\\hiday\\anaconda3\\lib\\site-packages (from requests>=2.23.0->ultralytics) (2.0.4)\n",
      "Requirement already satisfied: idna<4,>=2.5 in c:\\users\\hiday\\anaconda3\\lib\\site-packages (from requests>=2.23.0->ultralytics) (3.4)\n",
      "Requirement already satisfied: urllib3<1.27,>=1.21.1 in c:\\users\\hiday\\anaconda3\\lib\\site-packages (from requests>=2.23.0->ultralytics) (1.26.16)\n",
      "Requirement already satisfied: certifi>=2017.4.17 in c:\\users\\hiday\\anaconda3\\lib\\site-packages (from requests>=2.23.0->ultralytics) (2023.5.7)\n",
      "Requirement already satisfied: filelock in c:\\users\\hiday\\anaconda3\\lib\\site-packages (from torch>=1.7.0->ultralytics) (3.9.0)\n",
      "Requirement already satisfied: typing-extensions in c:\\users\\hiday\\anaconda3\\lib\\site-packages (from torch>=1.7.0->ultralytics) (4.6.3)\n",
      "Requirement already satisfied: sympy in c:\\users\\hiday\\anaconda3\\lib\\site-packages (from torch>=1.7.0->ultralytics) (1.11.1)\n",
      "Requirement already satisfied: networkx in c:\\users\\hiday\\anaconda3\\lib\\site-packages (from torch>=1.7.0->ultralytics) (2.8.4)\n",
      "Requirement already satisfied: jinja2 in c:\\users\\hiday\\anaconda3\\lib\\site-packages (from torch>=1.7.0->ultralytics) (2.11.3)\n",
      "Requirement already satisfied: colorama in c:\\users\\hiday\\anaconda3\\lib\\site-packages (from tqdm>=4.64.0->ultralytics) (0.4.6)\n",
      "Requirement already satisfied: zipp>=3.1.0 in c:\\users\\hiday\\anaconda3\\lib\\site-packages (from importlib-resources>=3.2.0->matplotlib>=3.2.2->ultralytics) (3.11.0)\n",
      "Requirement already satisfied: six>=1.5 in c:\\users\\hiday\\anaconda3\\lib\\site-packages (from python-dateutil>=2.7->matplotlib>=3.2.2->ultralytics) (1.16.0)\n",
      "Requirement already satisfied: MarkupSafe>=0.23 in c:\\users\\hiday\\anaconda3\\lib\\site-packages (from jinja2->torch>=1.7.0->ultralytics) (2.0.1)\n",
      "Requirement already satisfied: mpmath>=0.19 in c:\\users\\hiday\\anaconda3\\lib\\site-packages (from sympy->torch>=1.7.0->ultralytics) (1.2.1)\n",
      "Note: you may need to restart the kernel to use updated packages.\n"
     ]
    },
    {
     "name": "stderr",
     "output_type": "stream",
     "text": [
      "Using cache found in C:\\Users\\hiday/.cache\\torch\\hub\\ultralytics_yolov5_master\n",
      "YOLOv5  2023-7-4 Python-3.9.13 torch-2.0.1 CPU\n",
      "\n",
      "Fusing layers... \n",
      "YOLOv5s summary: 213 layers, 7225885 parameters, 0 gradients\n",
      "Adding AutoShape... \n"
     ]
    }
   ],
   "source": [
    "import os\n",
    "import torch\n",
    "%pip install ultralytics\n",
    "from PIL import Image, ImageDraw\n",
    "\n",
    "# Menentukan lokasi dimana folder berada\n",
    "folder_path = \"images/images\"\n",
    "\n",
    "# dapatkan semua nama file gambar dengan aturan akhir nama file berupa .jpg.jpeg.png\n",
    "image_files = [f for f in os.listdir(folder_path) if f.endswith((\".jpg\", \".jpeg\", \".png\"))]\n",
    "\n",
    "# Load YOLOv5 model\n",
    "model = torch.hub.load('ultralytics/yolov5', 'yolov5s', pretrained=True)\n",
    "device = torch.device('cuda' if torch.cuda.is_available() else 'cpu')\n",
    "model = model.to(device)\n",
    "\n",
    "# Iterate over the images\n",
    "for image_file in image_files:\n",
    "    image_path = os.path.join(folder_path, image_file)\n",
    "\n",
    "    # Load and preprocess the image\n",
    "    image = Image.open(image_path)\n",
    "    image = image.convert(\"RGB\")\n",
    "\n",
    "    # Perform inference\n",
    "    results = model(image)\n",
    "\n",
    "    # Get bounding box coordinates and labels for faces\n",
    "    boxes = results.xyxy[0]\n",
    "    faces = []\n",
    "    for box in boxes:\n",
    "        label = int(box[-1])\n",
    "        if label == 0:  # Class ID 0 corresponds to face\n",
    "            x1, y1, x2, y2 = box[:4].tolist()\n",
    "            faces.append((x1, y1, x2, y2))\n",
    "\n",
    "    # Draw bounding boxes on the image\n",
    "    draw = ImageDraw.Draw(image)\n",
    "    for face in faces:\n",
    "        x1, y1, x2, y2 = face\n",
    "        draw.rectangle([(x1, y1), (x2, y2)], outline=\"red\")\n",
    "\n",
    "    # Save the image with bounding boxes\n",
    "    output_path = \"images/results\"\n",
    "    output_path = os.path.join(output_path, f\"output_{image_file}\")\n",
    "    image.save(output_path)"
   ]
  },
  {
   "cell_type": "code",
   "execution_count": null,
   "metadata": {},
   "outputs": [],
   "source": []
  }
 ],
 "metadata": {
  "kernelspec": {
   "display_name": "Python 3 (ipykernel)",
   "language": "python",
   "name": "python3"
  },
  "language_info": {
   "codemirror_mode": {
    "name": "ipython",
    "version": 3
   },
   "file_extension": ".py",
   "mimetype": "text/x-python",
   "name": "python",
   "nbconvert_exporter": "python",
   "pygments_lexer": "ipython3",
   "version": "3.9.13"
  }
 },
 "nbformat": 4,
 "nbformat_minor": 2
}
